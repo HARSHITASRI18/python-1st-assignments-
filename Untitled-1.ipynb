{
 "cells": [
  {
   "cell_type": "code",
   "execution_count": 1,
   "metadata": {},
   "outputs": [
    {
     "name": "stdout",
     "output_type": "stream",
     "text": [
      "sllikswp\n"
     ]
    }
   ],
   "source": [
    "#write a code to reverse a string\n",
    "str = \"pwskills\"\n",
    "print(str[::-1])\n"
   ]
  },
  {
   "cell_type": "code",
   "execution_count": 1,
   "metadata": {},
   "outputs": [
    {
     "name": "stdout",
     "output_type": "stream",
     "text": [
      "The number of vowels in the string is: 3\n"
     ]
    }
   ],
   "source": [
    "#Write a code to count the number of vowels in a strings\n",
    "def count_vowels(s):\n",
    "    s = s.lower()\n",
    "    return (s.count('a') + s.count('e') + s.count('i') +\n",
    "            s.count('o') + s.count('u'))\n",
    "\n",
    "str = \"harshita\"\n",
    "vowel_count = count_vowels(str)\n",
    "print(f\"The number of vowels in the string is: {vowel_count}\")"
   ]
  },
  {
   "cell_type": "code",
   "execution_count": 2,
   "metadata": {},
   "outputs": [
    {
     "name": "stdout",
     "output_type": "stream",
     "text": [
      "The string is a palindrome.\n"
     ]
    }
   ],
   "source": [
    "#write a code to check if the given string is palindrome or not\n",
    "def is_palindrome(s):\n",
    "    s = s.replace(\" \", \"\").lower()\n",
    "    return s == s[::-1]\n",
    "\n",
    "str = \"maam\"\n",
    "if is_palindrome(str):\n",
    "    print(\"The string is a palindrome.\")\n",
    "else:\n",
    "    print(\"The string is not a palindrome.\")\n"
   ]
  },
  {
   "cell_type": "code",
   "execution_count": 5,
   "metadata": {},
   "outputs": [
    {
     "name": "stdout",
     "output_type": "stream",
     "text": [
      "listen and silent are anagrams.\n"
     ]
    }
   ],
   "source": [
    "#write a code to check if two given strings are anagrams of each other\n",
    "def are_anagrams(str1, str2):\n",
    "    str1 = str1.lower()\n",
    "    str2 = str2.lower()\n",
    "\n",
    "    sorted_str1 = sorted(str1)\n",
    "    sorted_str2 = sorted(str2)\n",
    "\n",
    "    if sorted_str1 == sorted_str2:\n",
    "        print(f\"{str1} and {str2} are anagrams.\")\n",
    "    else:\n",
    "        print(f\"{str1} and {str2} are not anagrams.\")\n",
    "\n",
    "input_str1 = input(\"Enter the first string: \")\n",
    "input_str2 = input(\"Enter the second string: \")\n",
    "are_anagrams(input_str1, input_str2)\n"
   ]
  },
  {
   "cell_type": "code",
   "execution_count": 10,
   "metadata": {},
   "outputs": [
    {
     "name": "stdout",
     "output_type": "stream",
     "text": [
      "The string has all unique characters.\n"
     ]
    }
   ],
   "source": [
    "#write a code to determine if a string has all unique characters\n",
    "def has_unique_chars(s):\n",
    "    unique_chars = set(s)\n",
    "    \n",
    "    return len(unique_chars) == len(s)\n",
    "\n",
    "input_string = input(\"Enter a string: \")\n",
    "if has_unique_chars(input_string):\n",
    "    print(\"The string has all unique characters.\")\n",
    "else:\n",
    "    print(\"The string does not have all unique characters.\")\n"
   ]
  },
  {
   "cell_type": "code",
   "execution_count": 14,
   "metadata": {},
   "outputs": [
    {
     "name": "stdout",
     "output_type": "stream",
     "text": [
      "Original text: Harshita srivastava\n",
      "Lowercase text: harshita srivastava\n",
      "Uppercase text: HARSHITA SRIVASTAVA\n"
     ]
    }
   ],
   "source": [
    "#Write a code to convert a given string to uppercase or lowercase \n",
    "text = \"Harshita srivastava\"\n",
    "lowercase_text = text.lower() \n",
    "uppercase_text = text.upper() \n",
    "\n",
    "print(f\"Original text: {text}\")\n",
    "print(f\"Lowercase text: {lowercase_text}\")\n",
    "print(f\"Uppercase text: {uppercase_text}\")\n"
   ]
  },
  {
   "cell_type": "code",
   "execution_count": 16,
   "metadata": {},
   "outputs": [
    {
     "name": "stdout",
     "output_type": "stream",
     "text": [
      "The number of words in the string is: 2\n"
     ]
    }
   ],
   "source": [
    "#Write a code to count the number of words in a strings\n",
    "def count_words(input_string):\n",
    "    words = input_string.split()\n",
    "    return len(words)\n",
    "\n",
    "input_string = input(\"Enter a string: \")\n",
    "word_count = count_words(input_string)\n",
    "print(f\"The number of words in the string is: {word_count}\")\n"
   ]
  },
  {
   "cell_type": "code",
   "execution_count": 1,
   "metadata": {},
   "outputs": [
    {
     "name": "stdout",
     "output_type": "stream",
     "text": [
      "Concatenated string: HarshitaSrivastava\n"
     ]
    }
   ],
   "source": [
    "#Write a code to concatenate two strings without using the + operators\n",
    "def concatenate_strings(str1, str2):\n",
    "    return \"\".join([str1, str2])\n",
    "\n",
    "string1 = \"Harshita\"\n",
    "string2 = \"Srivastava\"\n",
    "result = concatenate_strings(string1, string2)\n",
    "print(\"Concatenated string:\", result)\n"
   ]
  },
  {
   "cell_type": "code",
   "execution_count": 3,
   "metadata": {},
   "outputs": [
    {
     "name": "stdout",
     "output_type": "stream",
     "text": [
      "[1, 4, 5, 3]\n"
     ]
    }
   ],
   "source": [
    "#Write a code to remove all occurrences of a specific element from a list.\n",
    "def remove_all_occurrences(lst, element):\n",
    "    return [item for item in lst if item != element]\n",
    "\n",
    "my_list = [1, 2, 2, 4, 2, 5, 3]\n",
    "element_to_remove = 2 \n",
    "my_list = remove_all_occurrences(my_list, element_to_remove)\n",
    "print(my_list)  \n"
   ]
  },
  {
   "cell_type": "code",
   "execution_count": 4,
   "metadata": {},
   "outputs": [
    {
     "name": "stdout",
     "output_type": "stream",
     "text": [
      "Second largest element is: 45\n"
     ]
    }
   ],
   "source": [
    "#Implement a code to find the second largest number in a given list of integers\n",
    "def find_second_largest_sorted(nums):\n",
    "    nums.sort()\n",
    "    return nums[-2]\n",
    "\n",
    "my_list = [10, 20, 4, 45, 99]\n",
    "print(\"Second largest element is:\", find_second_largest_sorted(my_list))\n"
   ]
  },
  {
   "cell_type": "code",
   "execution_count": null,
   "metadata": {},
   "outputs": [],
   "source": [
    "# Create a code to count the occurrences of each element in a list and return a dictionar with elements as keys and their counts as values\n",
    "def count_occurrences(lst):\n",
    "    count_dict = {}\n",
    "    for element in lst:\n",
    "        if element in count_dict:\n",
    "            count_dict[element] += 1\n",
    "        else:\n",
    "            count_dict[element] = 1\n",
    "    return count_dict\n",
    "\n",
    "my_list = ['apple', 'banana', 'apple', 'orange', 'banana', 'apple']\n",
    "occurrences = count_occurrences(my_list)\n",
    "print(occurrences)\n",
    "\n",
    " "
   ]
  },
  {
   "cell_type": "code",
   "execution_count": 10,
   "metadata": {},
   "outputs": [
    {
     "name": "stdout",
     "output_type": "stream",
     "text": [
      "{'a': 3, 'b': 3, 'c': 2}\n"
     ]
    }
   ],
   "source": [
    "#Create a code to count the occurrences of each elements in a list \n",
    "def count_elements(lst):\n",
    "    counts = {}\n",
    "    for element in lst:\n",
    "        counts[element] = counts.get(element, 0) + 1\n",
    "    return counts\n",
    "\n",
    "elements_list = ['a','b','c','b','a','b','c']\n",
    "element_counts = count_elements(elements_list)\n",
    "print(element_counts)\n"
   ]
  },
  {
   "cell_type": "code",
   "execution_count": 11,
   "metadata": {},
   "outputs": [
    {
     "name": "stdout",
     "output_type": "stream",
     "text": [
      "[5, 4, 3, 2, 1]\n"
     ]
    }
   ],
   "source": [
    "#Write a code to reverse a list in-place without using any built - in reverse functions.\n",
    "def reverse_list_in_place(lst):\n",
    "    left, right = 0, len(lst) - 1\n",
    "    while left < right:\n",
    "        lst[left], lst[right] = lst[right], lst[left]\n",
    "        left += 1\n",
    "        right -= 1\n",
    "\n",
    "my_list = [1, 2, 3, 4, 5]\n",
    "reverse_list_in_place(my_list)\n",
    "print(my_list)\n"
   ]
  },
  {
   "cell_type": "code",
   "execution_count": 12,
   "metadata": {},
   "outputs": [
    {
     "name": "stdout",
     "output_type": "stream",
     "text": [
      "[1, 2, 3, 4, 5]\n"
     ]
    }
   ],
   "source": [
    "#Implement a code to find and remove duplicates from a list while preserving the original order of elements\n",
    "def remove_duplicates(lst):\n",
    "    seen = set()\n",
    "    result = []\n",
    "    for element in lst:\n",
    "        if element not in seen:\n",
    "            result.append(element)\n",
    "            seen.add(element)\n",
    "    return result\n",
    "\n",
    "my_list = [1, 2, 3, 2, 4, 1, 5, 3]\n",
    "unique_elements = remove_duplicates(my_list)\n",
    "print(unique_elements)\n"
   ]
  },
  {
   "cell_type": "code",
   "execution_count": 17,
   "metadata": {},
   "outputs": [
    {
     "name": "stdout",
     "output_type": "stream",
     "text": [
      "Is the list sorted? True\n",
      "Is the list sorted? True\n",
      "Is the list sorted? False\n"
     ]
    }
   ],
   "source": [
    "#create a code to check if a given list is sorted (either in ascending or descending order) or not\n",
    "def is_sorted(lst):\n",
    "    return lst == sorted(lst) or lst == sorted(lst, reverse=True)\n",
    "\n",
    "my_list = [1, 2, 3, 4, 5]\n",
    "print(\"Is the list sorted?\", is_sorted(my_list))\n",
    "\n",
    "my_list = [5, 4, 3, 2, 1]\n",
    "print(\"Is the list sorted?\", is_sorted(my_list))\n",
    "\n",
    "my_list = [1, 3, 2, 4, 5]\n",
    "print(\"Is the list sorted?\", is_sorted(my_list))\n"
   ]
  },
  {
   "cell_type": "code",
   "execution_count": 18,
   "metadata": {},
   "outputs": [
    {
     "name": "stdout",
     "output_type": "stream",
     "text": [
      "[1, 2, 3, 4, 5, 6, 7, 8]\n"
     ]
    }
   ],
   "source": [
    "#Write a code to merge two sorted lists into a single sorted list.\n",
    "def merge_sorted_lists(list1, list2):\n",
    "    merged_list = []\n",
    "    i, j = 0, 0\n",
    "\n",
    "    while i < len(list1) and j < len(list2):\n",
    "        if list1[i] < list2[j]:\n",
    "            merged_list.append(list1[i])\n",
    "            i += 1\n",
    "        else:\n",
    "            merged_list.append(list2[j])\n",
    "            j += 1\n",
    "\n",
    "    merged_list.extend(list1[i:])\n",
    "    merged_list.extend(list2[j:])\n",
    "\n",
    "    return merged_list\n",
    "\n",
    "list1 = [1, 3, 5, 7]\n",
    "list2 = [2, 4, 6, 8]\n",
    "result = merge_sorted_lists(list1, list2)\n",
    "print(result)\n"
   ]
  },
  {
   "cell_type": "code",
   "execution_count": 19,
   "metadata": {},
   "outputs": [
    {
     "name": "stdout",
     "output_type": "stream",
     "text": [
      "[4, 5]\n"
     ]
    }
   ],
   "source": [
    "#implement a code to find the intersection of two given lists\n",
    "def intersection(list1, list2):\n",
    "    return [element for element in list1 if element in list2]\n",
    "\n",
    "list1 = [1, 2, 3, 4, 5]\n",
    "list2 = [4, 5, 6, 7, 8]\n",
    "common_elements = intersection(list1, list2)\n",
    "print(common_elements)\n"
   ]
  },
  {
   "cell_type": "code",
   "execution_count": 21,
   "metadata": {},
   "outputs": [
    {
     "name": "stdout",
     "output_type": "stream",
     "text": [
      "[1, 2, 3, 4, 5, 6]\n"
     ]
    }
   ],
   "source": [
    "#create a code to find the union of two lists without duplicates \n",
    "def union_without_duplicates(list1, list2):\n",
    "    return list(set(list1).union(set(list2)))\n",
    "\n",
    "list1 = [1, 2, 2, 3, 4]\n",
    "list2 = [3, 4, 4, 5, 6]\n",
    "union_result = union_without_duplicates(list1, list2)\n",
    "print(union_result)\n",
    "\n"
   ]
  },
  {
   "cell_type": "code",
   "execution_count": 22,
   "metadata": {},
   "outputs": [
    {
     "name": "stdout",
     "output_type": "stream",
     "text": [
      "[2, 4, 1, 5, 3]\n"
     ]
    }
   ],
   "source": [
    "#write a code to shuffle a given list randomly without using any built in shuffle function\n",
    "import random\n",
    "\n",
    "def shuffle_list(lst):\n",
    "    for i in range(len(lst) - 1, 0, -1):\n",
    "        j = random.randint(0, i)\n",
    "        lst[i], lst[j] = lst[j], lst[i]\n",
    "    return lst\n",
    "\n",
    "my_list = [1, 2, 3, 4, 5]\n",
    "shuffled_list = shuffle_list(my_list)\n",
    "print(shuffled_list)\n"
   ]
  },
  {
   "cell_type": "code",
   "execution_count": 23,
   "metadata": {},
   "outputs": [
    {
     "name": "stdout",
     "output_type": "stream",
     "text": [
      "(4, 5)\n"
     ]
    }
   ],
   "source": [
    "#write a code that take two tuples as input and return a new tuple contaning element that are common to both input tuple\n",
    "def find_common_elements(tuple1, tuple2):\n",
    "    common_elements_set = set(tuple1).intersection(set(tuple2))\n",
    "    common_elements_tuple = tuple(common_elements_set)\n",
    "    return common_elements_tuple\n",
    "\n",
    "# Example usage:\n",
    "tuple1 = (1, 2, 3, 4, 5)\n",
    "tuple2 = (4, 5, 6, 7, 8)\n",
    "common_elements = find_common_elements(tuple1, tuple2)\n",
    "print(common_elements)\n",
    " "
   ]
  },
  {
   "cell_type": "code",
   "execution_count": 38,
   "metadata": {},
   "outputs": [
    {
     "name": "stdout",
     "output_type": "stream",
     "text": [
      "The intersection of the two sets is: {5}\n"
     ]
    }
   ],
   "source": [
    "#create a code that prompts the user to the enter two sets of integers seperated by commas then print the intersection of these two sets.\n",
    "def get_set_from_input():\n",
    "    input_str = input(\"Enter a set of integers separated by commas: \")\n",
    "    return set(map(int, input_str.split(',')))\n",
    "\n",
    "set1 = get_set_from_input()\n",
    "set2 = get_set_from_input()\n",
    "\n",
    "if set1 and set2:  \n",
    "    intersection_set = set1.intersection(set2)\n",
    "    print(\"The intersection of the two sets is:\", intersection_set)\n",
    "else:\n",
    "    print(\"At least one of the sets is empty. Please enter non-empty sets.\")\n"
   ]
  },
  {
   "cell_type": "code",
   "execution_count": 39,
   "metadata": {},
   "outputs": [
    {
     "name": "stdout",
     "output_type": "stream",
     "text": [
      "(2, 4, 6, 8, 3, 6, 9, 12)\n"
     ]
    }
   ],
   "source": [
    "#write a code to concatenate two tuples. the function should take two tuples as input and return a new tuple contaning elements from both input tuples\n",
    "def concatenate_tuples(tuple1, tuple2):\n",
    "    return tuple1 + tuple2\n",
    "\n",
    "tuple1 = (2,4,6,8)\n",
    "tuple2 = (3 ,6, 9, 12)\n",
    "result = concatenate_tuples(tuple1, tuple2)\n",
    "print(result)\n"
   ]
  },
  {
   "cell_type": "code",
   "execution_count": 40,
   "metadata": {},
   "outputs": [
    {
     "name": "stdout",
     "output_type": "stream",
     "text": [
      "Elements present in the first set but not in the second: {' \"honey\"', ' \"khushi\" ', '\"harshita\" '}\n"
     ]
    }
   ],
   "source": [
    "#develop a code that prompts the user to the input two set of string.then print the element that are present in the first set but not in thre second set \n",
    "def get_set_from_input(prompt):\n",
    "    input_str = input(prompt)\n",
    "    return set(input_str.split(','))\n",
    "\n",
    "set1 = get_set_from_input(\"Enter the first set of strings, separated by commas: \")\n",
    "set2 = get_set_from_input(\"Enter the second set of strings, separated by commas: \")\n",
    "\n",
    "difference_set = set1.difference(set2)\n",
    "\n",
    "print(\"Elements present in the first set but not in the second:\", difference_set)\n"
   ]
  },
  {
   "cell_type": "code",
   "execution_count": 41,
   "metadata": {},
   "outputs": [
    {
     "name": "stdout",
     "output_type": "stream",
     "text": [
      "(1, 2, 3, 4, 5, 6, 7, 8)\n"
     ]
    }
   ],
   "source": [
    "#create a code that take a tuples and two integers as input as input.the function should return a new tuple containing element from the original tuple within the specefied range of indice \n",
    "def slice_tuple(input_tuple, start_index, end_index):\n",
    "    end_index = min(end_index, len(input_tuple))\n",
    "    return input_tuple[start_index:end_index]\n",
    "\n",
    "original_tuple = (0, 1, 2, 3, 4, 5, 6, 7, 8, 9)\n",
    "start = 1  \n",
    "end = 9  \n",
    "sliced_tuple = slice_tuple(original_tuple, start, end)\n",
    "print(sliced_tuple)\n"
   ]
  },
  {
   "cell_type": "code",
   "execution_count": 43,
   "metadata": {},
   "outputs": [
    {
     "name": "stdout",
     "output_type": "stream",
     "text": [
      "Union of the two sets: {'i', 'w', ',', 'h', 'r', 'p', 'a', 's', 't', 'k', 'u', 'e', ' ', 'l'}\n"
     ]
    }
   ],
   "source": [
    "#write a code that prompts the user to input two set of character then,print the union of these two sets\n",
    "def get_set_from_input(prompt):\n",
    "    input_str = input(prompt)\n",
    "    return set(input_str)\n",
    "\n",
    "set1 = get_set_from_input(\"Enter the first set of characters (separated by spaces): \")\n",
    "set2 = get_set_from_input(\"Enter the second set of characters (separated by spaces): \")\n",
    "\n",
    "union_set = set1.union(set2)\n",
    "\n",
    "print(\"Union of the two sets:\", union_set)\n"
   ]
  },
  {
   "cell_type": "code",
   "execution_count": 44,
   "metadata": {},
   "outputs": [
    {
     "name": "stdout",
     "output_type": "stream",
     "text": [
      "Maximum value: 120\n",
      "Minimum value: 20\n"
     ]
    }
   ],
   "source": [
    "#Develop a code that takes a tuples of intgers as input. The function should return the maximum and minimum value from the tuple using tuple unpacking\n",
    "def find_max_min(input_tuple):\n",
    "    *values, = input_tuple\n",
    "    max_value = max(values)\n",
    "    min_value = min(values)\n",
    "    return max_value, min_value\n",
    "\n",
    "numbers_tuple = (20, 40, 60, 80, 100, 120)\n",
    "max_value, min_value = find_max_min(numbers_tuple)\n",
    "print(\"Maximum value:\", max_value)\n",
    "print(\"Minimum value:\", min_value)\n"
   ]
  },
  {
   "cell_type": "code",
   "execution_count": 45,
   "metadata": {},
   "outputs": [
    {
     "name": "stdout",
     "output_type": "stream",
     "text": [
      "Union of the two sets: {1, 2, 3, 4, 5, 6, 7, 8}\n",
      "Intersection of the two sets: {4, 5}\n",
      "Difference of the two sets (elements in set1 but not in set2): {1, 2, 3}\n"
     ]
    }
   ],
   "source": [
    "#create a code that defines two sets of integers. then, print the union , intersection, and difference of these two sets.\n",
    "set1 = {1, 2, 3, 4, 5}\n",
    "set2 = {4, 5, 6, 7, 8}\n",
    "\n",
    "union_set = set1.union(set2)\n",
    "\n",
    "intersection_set = set1.intersection(set2)\n",
    "\n",
    "difference_set = set1.difference(set2)\n",
    "\n",
    "print(\"Union of the two sets:\", union_set)\n",
    "print(\"Intersection of the two sets:\", intersection_set)\n",
    "print(\"Difference of the two sets (elements in set1 but not in set2):\", difference_set)\n"
   ]
  },
  {
   "cell_type": "code",
   "execution_count": 46,
   "metadata": {},
   "outputs": [
    {
     "name": "stdout",
     "output_type": "stream",
     "text": [
      "The element 2 occurs 3 times in the tuple.\n"
     ]
    }
   ],
   "source": [
    "#write a code that take a tuple and an elements as input.the function should the return the count of occurence of the given element in the tuples.\n",
    "def count_occurrences(input_tuple, element):\n",
    "    return input_tuple.count(element)\n",
    "\n",
    "my_tuple = (1, 2, 3, 2, 4, 2, 5)\n",
    "element_to_count = 2\n",
    "count = count_occurrences(my_tuple, element_to_count)\n",
    "print(f\"The element {element_to_count} occurs {count} times in the tuple.\")\n"
   ]
  },
  {
   "cell_type": "code",
   "execution_count": 47,
   "metadata": {},
   "outputs": [
    {
     "name": "stdout",
     "output_type": "stream",
     "text": [
      "Symmetric difference of the two sets: {'\"python\" ', ' \"sql\"', ' \"python\"', '\"pwskills\" '}\n"
     ]
    }
   ],
   "source": [
    "#develop a code that prompts the user to input two set of strings. then print the symmetric difference of these two sets.\n",
    "def get_set_from_input(prompt):\n",
    "    input_str = input(prompt)\n",
    "    return set(input_str.split(','))\n",
    "\n",
    "set1 = get_set_from_input(\"Enter the first set of strings, separated by commas: \")\n",
    "set2 = get_set_from_input(\"Enter the second set of strings, separated by commas: \")\n",
    "symmetric_difference_set = set1.symmetric_difference(set2)\n",
    "\n",
    "\n",
    "print(\"Symmetric difference of the two sets:\", symmetric_difference_set)\n"
   ]
  },
  {
   "cell_type": "code",
   "execution_count": 48,
   "metadata": {},
   "outputs": [
    {
     "name": "stdout",
     "output_type": "stream",
     "text": [
      "{'apple': 3, 'mango': 3, 'orange': 2, 'guava': 1}\n"
     ]
    }
   ],
   "source": [
    "#write a code that takes a list of words as input and returns a dictionary where the keys are unique words and the values are the frequencies of those words in the input list\n",
    "def word_frequencies(word_list):\n",
    "    frequency_dict = {}\n",
    "    for word in word_list:\n",
    "        if word in frequency_dict:\n",
    "            frequency_dict[word] += 1\n",
    "        else:\n",
    "            frequency_dict[word] = 1\n",
    "    return frequency_dict\n",
    "\n",
    "input_list = [\"apple\", \"mango\", \"apple\", \"orange\", \"orange\", \"apple\", \"guava\", \"mango\", \"mango\"]\n",
    "frequency_dict = word_frequencies(input_list)\n",
    "print(frequency_dict)\n"
   ]
  },
  {
   "cell_type": "code",
   "execution_count": 50,
   "metadata": {},
   "outputs": [
    {
     "name": "stdout",
     "output_type": "stream",
     "text": [
      "{'a': 20, 'b': 45, 'c': 75, 'd': 25}\n"
     ]
    }
   ],
   "source": [
    "#write a code that takes two dictionaries as input and merges them into a single dictionary. if there are common keys, the value should be addded together.\n",
    "def merge_dictionaries(dict1, dict2):\n",
    "    merged_dict = dict1.copy()\n",
    "    for key, value in dict2.items():\n",
    "        if key in merged_dict:\n",
    "            merged_dict[key] += value\n",
    "        else:\n",
    "            merged_dict[key] = value\n",
    "    return merged_dict\n",
    "\n",
    "dict1 = {'a': 20, 'b': 40, 'c': 60}\n",
    "dict2 = {'b': 5, 'c': 15, 'd': 25}\n",
    "result = merge_dictionaries(dict1, dict2)\n",
    "print(result)\n"
   ]
  },
  {
   "cell_type": "code",
   "execution_count": 55,
   "metadata": {},
   "outputs": [
    {
     "name": "stdout",
     "output_type": "stream",
     "text": [
      "d\n",
      "None\n"
     ]
    }
   ],
   "source": [
    "#write a code to ascess a value in a nesated dictionary the function should take the dictionary and a list of keys as input , and return the corresponding value.if any of the key do not exist in the dictionary.the function should retuns none\n",
    "def get_nested_value(dct, keys):\n",
    "    \"\"\"\n",
    "    Access a value in a nested dictionary using a list of keys.\n",
    "    \n",
    "    :param dct: The dictionary to search.\n",
    "    :param keys: A list of keys representing the path to the value.\n",
    "    :return: The value if found, otherwise None.\n",
    "    \"\"\"\n",
    "    for key in keys:\n",
    "        if isinstance(dct, dict) and key in dct:\n",
    "            dct = dct[key]\n",
    "        else:\n",
    "            return None\n",
    "    return dct\n",
    "\n",
    "nested_dict = {'a': {'b': {'c': 'd'}}}\n",
    "keys = ['a', 'b', 'c']\n",
    "print(get_nested_value(nested_dict, keys))  \n",
    "\n",
    "keys = ['a', 'b', 'x']\n",
    "print(get_nested_value(nested_dict, keys))  \n"
   ]
  },
  {
   "cell_type": "code",
   "execution_count": 56,
   "metadata": {},
   "outputs": [
    {
     "name": "stdout",
     "output_type": "stream",
     "text": [
      "Ascending: {'b': 1, 'c': 2, 'a': 3}\n",
      "Descending: {'a': 3, 'c': 2, 'b': 1}\n"
     ]
    }
   ],
   "source": [
    "#write a code that takes a dictionary as input and returns a shorted version of it based on the values.you can choose whether to short in ascending or descending order\n",
    "def sort_dict_by_values(d, ascending=True):\n",
    "    \"\"\"\n",
    "    Sorts a dictionary by its values.\n",
    "\n",
    "    Parameters:\n",
    "    d (dict): The dictionary to be sorted.\n",
    "    ascending (bool): If True, sort in ascending order; if False, sort in descending order.\n",
    "\n",
    "    Returns:\n",
    "    dict: A new dictionary sorted by the values.\n",
    "    \"\"\"\n",
    "    sorted_items = sorted(d.items(), key=lambda item: item[1], reverse=not ascending)\n",
    "    return dict(sorted_items)\n",
    "\n",
    "example_dict = {'a': 3, 'b': 1, 'c': 2}\n",
    "\n",
    "sorted_dict_asc = sort_dict_by_values(example_dict, ascending=True)\n",
    "print(\"Ascending:\", sorted_dict_asc)\n",
    "\n",
    "sorted_dict_desc = sort_dict_by_values(example_dict, ascending=False)\n",
    "print(\"Descending:\", sorted_dict_desc)\n"
   ]
  },
  {
   "cell_type": "code",
   "execution_count": 57,
   "metadata": {},
   "outputs": [
    {
     "name": "stdout",
     "output_type": "stream",
     "text": [
      "Inverted Dictionary: {1: ['a', 'c'], 2: 'b', 3: 'd'}\n"
     ]
    }
   ],
   "source": [
    "#write a code that inverts a dictionary , swapping keys and values. ensure that the inverted dictionary correctly handles case where multiple keys have the same value by storing the keys as a list in the inverted dictionary\n",
    "def invert_dict(d):\n",
    "    \"\"\"\n",
    "    Inverts a dictionary, swapping keys and values. \n",
    "    If multiple keys have the same value, they are stored as a list in the inverted dictionary.\n",
    "\n",
    "    Parameters:\n",
    "    d (dict): The dictionary to be inverted.\n",
    "\n",
    "    Returns:\n",
    "    dict: A new dictionary with inverted keys and values.\n",
    "    \"\"\"\n",
    "    inverted = {}\n",
    "    for key, value in d.items():\n",
    "        if value in inverted:\n",
    "            if isinstance(inverted[value], list):\n",
    "                inverted[value].append(key)\n",
    "            else:\n",
    "                inverted[value] = [inverted[value], key]\n",
    "        else:\n",
    "            inverted[value] = key\n",
    "    return inverted\n",
    "\n",
    "example_dict = {'a': 1, 'b': 2, 'c': 1, 'd': 3}\n",
    "\n",
    "inverted_dict = invert_dict(example_dict)\n",
    "print(\"Inverted Dictionary:\", inverted_dict)\n"
   ]
  }
 ],
 "metadata": {
  "kernelspec": {
   "display_name": "Python 3",
   "language": "python",
   "name": "python3"
  },
  "language_info": {
   "codemirror_mode": {
    "name": "ipython",
    "version": 3
   },
   "file_extension": ".py",
   "mimetype": "text/x-python",
   "name": "python",
   "nbconvert_exporter": "python",
   "pygments_lexer": "ipython3",
   "version": "3.12.2"
  }
 },
 "nbformat": 4,
 "nbformat_minor": 2
}
